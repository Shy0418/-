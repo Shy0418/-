{
 "cells": [
  {
   "cell_type": "code",
   "execution_count": 6,
   "metadata": {
    "collapsed": true
   },
   "outputs": [
    {
     "data": {
      "text/plain": "      words        D1    D2 D3 D4 D5 D6 D7 D8    Num\n0      爱一个人      Love     0  0  0  0  0  0  0      0\n1        表白      Love     0  0  0  0  0  0  0      1\n2        初恋      Love     0  0  0  0  0  0  0      2\n3        单身      Love     0  0  0  0  0  0  0      3\n4        对象      Love     0  0  0  0  0  0  0      4\n...     ...       ...   ... .. .. .. .. .. ..    ...\n12432    早*  Relative  Time  0  0  0  0  0  0  12432\n12433    周*  Relative  Time  0  0  0  0  0  0  12433\n12434    鬼*  Religion     0  0  0  0  0  0  0  12434\n12435    观*       See     0  0  0  0  0  0  0  12435\n12436    倏*      Time     0  0  0  0  0  0  0  12436\n\n[12437 rows x 10 columns]",
      "text/html": "<div>\n<style scoped>\n    .dataframe tbody tr th:only-of-type {\n        vertical-align: middle;\n    }\n\n    .dataframe tbody tr th {\n        vertical-align: top;\n    }\n\n    .dataframe thead th {\n        text-align: right;\n    }\n</style>\n<table border=\"1\" class=\"dataframe\">\n  <thead>\n    <tr style=\"text-align: right;\">\n      <th></th>\n      <th>words</th>\n      <th>D1</th>\n      <th>D2</th>\n      <th>D3</th>\n      <th>D4</th>\n      <th>D5</th>\n      <th>D6</th>\n      <th>D7</th>\n      <th>D8</th>\n      <th>Num</th>\n    </tr>\n  </thead>\n  <tbody>\n    <tr>\n      <th>0</th>\n      <td>爱一个人</td>\n      <td>Love</td>\n      <td>0</td>\n      <td>0</td>\n      <td>0</td>\n      <td>0</td>\n      <td>0</td>\n      <td>0</td>\n      <td>0</td>\n      <td>0</td>\n    </tr>\n    <tr>\n      <th>1</th>\n      <td>表白</td>\n      <td>Love</td>\n      <td>0</td>\n      <td>0</td>\n      <td>0</td>\n      <td>0</td>\n      <td>0</td>\n      <td>0</td>\n      <td>0</td>\n      <td>1</td>\n    </tr>\n    <tr>\n      <th>2</th>\n      <td>初恋</td>\n      <td>Love</td>\n      <td>0</td>\n      <td>0</td>\n      <td>0</td>\n      <td>0</td>\n      <td>0</td>\n      <td>0</td>\n      <td>0</td>\n      <td>2</td>\n    </tr>\n    <tr>\n      <th>3</th>\n      <td>单身</td>\n      <td>Love</td>\n      <td>0</td>\n      <td>0</td>\n      <td>0</td>\n      <td>0</td>\n      <td>0</td>\n      <td>0</td>\n      <td>0</td>\n      <td>3</td>\n    </tr>\n    <tr>\n      <th>4</th>\n      <td>对象</td>\n      <td>Love</td>\n      <td>0</td>\n      <td>0</td>\n      <td>0</td>\n      <td>0</td>\n      <td>0</td>\n      <td>0</td>\n      <td>0</td>\n      <td>4</td>\n    </tr>\n    <tr>\n      <th>...</th>\n      <td>...</td>\n      <td>...</td>\n      <td>...</td>\n      <td>...</td>\n      <td>...</td>\n      <td>...</td>\n      <td>...</td>\n      <td>...</td>\n      <td>...</td>\n      <td>...</td>\n    </tr>\n    <tr>\n      <th>12432</th>\n      <td>早*</td>\n      <td>Relative</td>\n      <td>Time</td>\n      <td>0</td>\n      <td>0</td>\n      <td>0</td>\n      <td>0</td>\n      <td>0</td>\n      <td>0</td>\n      <td>12432</td>\n    </tr>\n    <tr>\n      <th>12433</th>\n      <td>周*</td>\n      <td>Relative</td>\n      <td>Time</td>\n      <td>0</td>\n      <td>0</td>\n      <td>0</td>\n      <td>0</td>\n      <td>0</td>\n      <td>0</td>\n      <td>12433</td>\n    </tr>\n    <tr>\n      <th>12434</th>\n      <td>鬼*</td>\n      <td>Religion</td>\n      <td>0</td>\n      <td>0</td>\n      <td>0</td>\n      <td>0</td>\n      <td>0</td>\n      <td>0</td>\n      <td>0</td>\n      <td>12434</td>\n    </tr>\n    <tr>\n      <th>12435</th>\n      <td>观*</td>\n      <td>See</td>\n      <td>0</td>\n      <td>0</td>\n      <td>0</td>\n      <td>0</td>\n      <td>0</td>\n      <td>0</td>\n      <td>0</td>\n      <td>12435</td>\n    </tr>\n    <tr>\n      <th>12436</th>\n      <td>倏*</td>\n      <td>Time</td>\n      <td>0</td>\n      <td>0</td>\n      <td>0</td>\n      <td>0</td>\n      <td>0</td>\n      <td>0</td>\n      <td>0</td>\n      <td>12436</td>\n    </tr>\n  </tbody>\n</table>\n<p>12437 rows × 10 columns</p>\n</div>"
     },
     "execution_count": 6,
     "metadata": {},
     "output_type": "execute_result"
    }
   ],
   "source": [
    "import  pandas as pd\n",
    "Dictionary = pd.read_excel(r'E:\\论文\\数据\\WenXinV4.0师姐发的版本\\dic\\dictionary_all.xlsx')\n",
    "Dictionary = Dictionary.fillna('0')\n",
    "Dictionary"
   ]
  },
  {
   "cell_type": "code",
   "execution_count": 7,
   "outputs": [
    {
     "data": {
      "text/plain": "' Affect'"
     },
     "execution_count": 7,
     "metadata": {},
     "output_type": "execute_result"
    }
   ],
   "source": [
    "Existence_dimension=pd.read_table(r'E:\\论文\\数据\\三类需求维度说明\\Existence维度.txt',encoding='utf-8',header=None,sep=',')\n",
    "Existence_dimension.iloc[1,1]"
   ],
   "metadata": {
    "collapsed": false
   }
  },
  {
   "cell_type": "markdown",
   "source": [
    "## 以下三段是将LIWC词典中的初始种子词按照REG理论分类，点之前先将三类词典中的初始种子词清空，慎点！！"
   ],
   "metadata": {
    "collapsed": false
   }
  },
  {
   "cell_type": "code",
   "execution_count": 24,
   "outputs": [],
   "source": [
    "word='Death'\n",
    "for i in range(len(Dictionary)):\n",
    "    # print(Dictionary.iloc[i,1])\n",
    "    if word == str(Dictionary.iloc[i,1]) or word == str(Dictionary.iloc[i,2]) or word == str(Dictionary.iloc[i,3]) or word == str(Dictionary.iloc[i,4]) or word == str(Dictionary.iloc[i,5]) or word==str(Dictionary.iloc[i,6]) or word==str(Dictionary.iloc[i,7]) or word==str(Dictionary.iloc[i,8]):\n",
    "        # print(Dictionary.iloc[i,0])\n",
    "        with open(r'Existence_seedwords.txt',encoding='utf-8',mode='a+') as file:\n",
    "            file.write(str(Dictionary.iloc[i,0]))\n",
    "            file.write('\\n')\n",
    "        file.close()\n"
   ],
   "metadata": {
    "collapsed": false
   }
  },
  {
   "cell_type": "code",
   "execution_count": 26,
   "outputs": [
    {
     "data": {
      "text/plain": "        0\n0      母爱\n1      父爱\n2      胎儿\n3     一家人\n4      姐夫\n...   ...\n8115   死亡\n8116   意外\n8117   殡*\n8118   棺*\n8119   尸*\n\n[7498 rows x 1 columns]",
      "text/html": "<div>\n<style scoped>\n    .dataframe tbody tr th:only-of-type {\n        vertical-align: middle;\n    }\n\n    .dataframe tbody tr th {\n        vertical-align: top;\n    }\n\n    .dataframe thead th {\n        text-align: right;\n    }\n</style>\n<table border=\"1\" class=\"dataframe\">\n  <thead>\n    <tr style=\"text-align: right;\">\n      <th></th>\n      <th>0</th>\n    </tr>\n  </thead>\n  <tbody>\n    <tr>\n      <th>0</th>\n      <td>母爱</td>\n    </tr>\n    <tr>\n      <th>1</th>\n      <td>父爱</td>\n    </tr>\n    <tr>\n      <th>2</th>\n      <td>胎儿</td>\n    </tr>\n    <tr>\n      <th>3</th>\n      <td>一家人</td>\n    </tr>\n    <tr>\n      <th>4</th>\n      <td>姐夫</td>\n    </tr>\n    <tr>\n      <th>...</th>\n      <td>...</td>\n    </tr>\n    <tr>\n      <th>8115</th>\n      <td>死亡</td>\n    </tr>\n    <tr>\n      <th>8116</th>\n      <td>意外</td>\n    </tr>\n    <tr>\n      <th>8117</th>\n      <td>殡*</td>\n    </tr>\n    <tr>\n      <th>8118</th>\n      <td>棺*</td>\n    </tr>\n    <tr>\n      <th>8119</th>\n      <td>尸*</td>\n    </tr>\n  </tbody>\n</table>\n<p>7498 rows × 1 columns</p>\n</div>"
     },
     "execution_count": 26,
     "metadata": {},
     "output_type": "execute_result"
    }
   ],
   "source": [
    "Existernce = pd.read_csv(r'Existence_seedwords.txt',encoding='utf-8',header=None)\n",
    "Existernce.drop_duplicates(subset=0,inplace=True,keep='first')\n",
    "Existernce"
   ],
   "metadata": {
    "collapsed": false
   }
  },
  {
   "cell_type": "code",
   "execution_count": 130,
   "outputs": [],
   "source": [
    "word='1'\n",
    "for i in range(len(Dictionary)):\n",
    "    # print(Dictionary.iloc[i,1])\n",
    "    if word == str(Dictionary.iloc[i,1]) or word == str(Dictionary.iloc[i,2]) or word == str(Dictionary.iloc[i,3]) or word == str(Dictionary.iloc[i,4]) or word == str(Dictionary.iloc[i,5]) or word==str(Dictionary.iloc[i,6]) or word==str(Dictionary.iloc[i,7]) or word==str(Dictionary.iloc[i,8]):\n",
    "        # print(Dictionary.iloc[i,0])\n",
    "        with open(r'Growth_seedwords.txt',encoding='utf-8',mode='a+') as file:\n",
    "            file.write(str(Dictionary.iloc[i,0]))\n",
    "            file.write('\\n')"
   ],
   "metadata": {
    "collapsed": false
   }
  },
  {
   "cell_type": "code",
   "execution_count": 27,
   "outputs": [
    {
     "data": {
      "text/plain": "       0\n0     小弟\n1      俺\n2     敝人\n3      我\n4      吾\n...   ..\n3933  明天\n3934  日后\n3935  往后\n3936  未来\n3937  以后\n\n[3349 rows x 1 columns]",
      "text/html": "<div>\n<style scoped>\n    .dataframe tbody tr th:only-of-type {\n        vertical-align: middle;\n    }\n\n    .dataframe tbody tr th {\n        vertical-align: top;\n    }\n\n    .dataframe thead th {\n        text-align: right;\n    }\n</style>\n<table border=\"1\" class=\"dataframe\">\n  <thead>\n    <tr style=\"text-align: right;\">\n      <th></th>\n      <th>0</th>\n    </tr>\n  </thead>\n  <tbody>\n    <tr>\n      <th>0</th>\n      <td>小弟</td>\n    </tr>\n    <tr>\n      <th>1</th>\n      <td>俺</td>\n    </tr>\n    <tr>\n      <th>2</th>\n      <td>敝人</td>\n    </tr>\n    <tr>\n      <th>3</th>\n      <td>我</td>\n    </tr>\n    <tr>\n      <th>4</th>\n      <td>吾</td>\n    </tr>\n    <tr>\n      <th>...</th>\n      <td>...</td>\n    </tr>\n    <tr>\n      <th>3933</th>\n      <td>明天</td>\n    </tr>\n    <tr>\n      <th>3934</th>\n      <td>日后</td>\n    </tr>\n    <tr>\n      <th>3935</th>\n      <td>往后</td>\n    </tr>\n    <tr>\n      <th>3936</th>\n      <td>未来</td>\n    </tr>\n    <tr>\n      <th>3937</th>\n      <td>以后</td>\n    </tr>\n  </tbody>\n</table>\n<p>3349 rows × 1 columns</p>\n</div>"
     },
     "execution_count": 27,
     "metadata": {},
     "output_type": "execute_result"
    }
   ],
   "source": [
    "Growth = pd.read_csv(r'Growth_seedwords.txt',encoding='utf-8',header=None)\n",
    "Growth.drop_duplicates(subset=0,inplace=True,keep='first')\n",
    "Growth"
   ],
   "metadata": {
    "collapsed": false
   }
  },
  {
   "cell_type": "code",
   "execution_count": 135,
   "outputs": [],
   "source": [
    "word='1`'\n",
    "for i in range(len(Dictionary)):\n",
    "    # print(Dictionary.iloc[i,1])\n",
    "    if word == str(Dictionary.iloc[i,1]) or word == str(Dictionary.iloc[i,2]) or word == str(Dictionary.iloc[i,3]) or word == str(Dictionary.iloc[i,4]) or word == str(Dictionary.iloc[i,5]) or word==str(Dictionary.iloc[i,6]) or word==str(Dictionary.iloc[i,7]) or word==str(Dictionary.iloc[i,8]):\n",
    "        # print(Dictionary.iloc[i,0])\n",
    "        with open(r'Relatedness_seedwords.txt',encoding='utf-8',mode='a+') as file:\n",
    "            file.write(str(Dictionary.iloc[i,0]))\n",
    "            file.write('\\n')"
   ],
   "metadata": {
    "collapsed": false
   }
  },
  {
   "cell_type": "code",
   "execution_count": 28,
   "outputs": [
    {
     "data": {
      "text/plain": "         0\n0     舌战群儒\n1       母爱\n2       陪伴\n3       强盗\n4       小子\n...    ...\n1980    目*\n1981    视*\n1982    艳*\n1983    吐*\n1984    吞*\n\n[1882 rows x 1 columns]",
      "text/html": "<div>\n<style scoped>\n    .dataframe tbody tr th:only-of-type {\n        vertical-align: middle;\n    }\n\n    .dataframe tbody tr th {\n        vertical-align: top;\n    }\n\n    .dataframe thead th {\n        text-align: right;\n    }\n</style>\n<table border=\"1\" class=\"dataframe\">\n  <thead>\n    <tr style=\"text-align: right;\">\n      <th></th>\n      <th>0</th>\n    </tr>\n  </thead>\n  <tbody>\n    <tr>\n      <th>0</th>\n      <td>舌战群儒</td>\n    </tr>\n    <tr>\n      <th>1</th>\n      <td>母爱</td>\n    </tr>\n    <tr>\n      <th>2</th>\n      <td>陪伴</td>\n    </tr>\n    <tr>\n      <th>3</th>\n      <td>强盗</td>\n    </tr>\n    <tr>\n      <th>4</th>\n      <td>小子</td>\n    </tr>\n    <tr>\n      <th>...</th>\n      <td>...</td>\n    </tr>\n    <tr>\n      <th>1980</th>\n      <td>目*</td>\n    </tr>\n    <tr>\n      <th>1981</th>\n      <td>视*</td>\n    </tr>\n    <tr>\n      <th>1982</th>\n      <td>艳*</td>\n    </tr>\n    <tr>\n      <th>1983</th>\n      <td>吐*</td>\n    </tr>\n    <tr>\n      <th>1984</th>\n      <td>吞*</td>\n    </tr>\n  </tbody>\n</table>\n<p>1882 rows × 1 columns</p>\n</div>"
     },
     "execution_count": 28,
     "metadata": {},
     "output_type": "execute_result"
    }
   ],
   "source": [
    "Relatedness = pd.read_csv(r'Relatedness_seedwords.txt',encoding='utf-8',header=None)\n",
    "Relatedness.drop_duplicates(subset=0,inplace=True,keep='first')\n",
    "Relatedness"
   ],
   "metadata": {
    "collapsed": false
   }
  }
 ],
 "metadata": {
  "kernelspec": {
   "display_name": "Python 3",
   "language": "python",
   "name": "python3"
  },
  "language_info": {
   "codemirror_mode": {
    "name": "ipython",
    "version": 2
   },
   "file_extension": ".py",
   "mimetype": "text/x-python",
   "name": "python",
   "nbconvert_exporter": "python",
   "pygments_lexer": "ipython2",
   "version": "2.7.6"
  }
 },
 "nbformat": 4,
 "nbformat_minor": 0
}
