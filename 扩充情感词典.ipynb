{
 "cells": [
  {
   "cell_type": "markdown",
   "source": [
    "## 对三类种子词语做同义词扩展，以扩展词典的覆盖范围"
   ],
   "metadata": {
    "collapsed": false
   }
  },
  {
   "cell_type": "code",
   "execution_count": null,
   "outputs": [],
   "source": [
    "import pandas as pd\n",
    "Existence1 = pd.read_table(r'E:\\pythonProject\\需求分析词典\\种子词选择\\Existence_seedwords.txt',encoding='utf-8',header=None)\n",
    "Existence1.drop_duplicates(subset=0,inplace=True,keep='first')\n",
    "Existence = Existence1[0].to_list()\n",
    "len(Existence)"
   ],
   "metadata": {
    "collapsed": false
   }
  },
  {
   "cell_type": "code",
   "execution_count": null,
   "outputs": [],
   "source": [
    "import pandas as pd\n",
    "Growth1 = pd.read_table(r'E:\\pythonProject\\需求分析词典\\种子词选择\\Growth_seedwords.txt',encoding='utf-8',header=None)\n",
    "Growth1.drop_duplicates(subset=0,inplace=True,keep='first')\n",
    "Growth = Growth1[0].to_list()\n",
    "len(Growth)"
   ],
   "metadata": {
    "collapsed": false
   }
  },
  {
   "cell_type": "code",
   "execution_count": null,
   "outputs": [],
   "source": [
    "Relatedness1 = pd.read_table(r'E:\\pythonProject\\需求分析词典\\种子词选择\\Relatedness_seedwords.txt',encoding='utf-8',header=None)\n",
    "Relatedness1.drop_duplicates(subset=0,inplace=True,keep='first')\n",
    "Relatedness = Relatedness1[0].to_list()\n",
    "len(Relatedness)"
   ],
   "metadata": {
    "collapsed": false
   }
  },
  {
   "cell_type": "code",
   "execution_count": null,
   "outputs": [],
   "source": [
    "import numpy as np\n",
    "for i in np.arange(0,10,0.01):\n",
    "    for j in np.arange(0,10,0.01):\n",
    "        for k in np.arange(0,10,0.01):\n",
    "            if((abs(int(i*len(Existence)+len(Existence) - len(Growth)-j*len(Growth))) < 100)  and (abs(int(i*len(Existence)+len(Existence)- len(Relatedness)- k*len(Relatedness))) < 100) and (abs(int(j*len(Growth)+len(Growth)-len(Relatedness) -k*len(Relatedness)))<100)):\n",
    "                print(str(i)+'\\t'+str(j)+'\\t'+str(k))\n",
    "                print('\\n')"
   ],
   "metadata": {
    "collapsed": false
   }
  },
  {
   "cell_type": "code",
   "execution_count": null,
   "outputs": [],
   "source": [
    "# 判断是否是中文\n",
    "def is_Chinese(word):#修改过的\n",
    "    for ch in word:\n",
    "        if '\\u4e00' > ch or ch > '\\u9fff':\n",
    "            return False\n",
    "    return True\n"
   ],
   "metadata": {
    "collapsed": false
   }
  },
  {
   "cell_type": "code",
   "execution_count": null,
   "outputs": [],
   "source": [
    "import synonyms\n",
    "synonyms_data = []\n",
    "with open(r'E:\\pythonProject\\需求分析词典\\种子词选择\\Existence_seedwords_synonyms.txt',mode='w+',encoding='utf-8') as file:\n",
    " for i in Existence:\n",
    "        sy = synonyms.nearby(i,2)[0]\n",
    "        for j in sy:\n",
    "            if (len(j) > 1) and (is_Chinese(str(j))==True):\n",
    "                file.write(j+'\\n')\n",
    "                print(j)\n",
    "file.close()"
   ],
   "metadata": {
    "collapsed": false
   }
  },
  {
   "cell_type": "code",
   "execution_count": null,
   "outputs": [],
   "source": [
    "import synonyms\n",
    "synonyms_data = []\n",
    "with open(r'E:\\pythonProject\\需求分析词典\\种子词选择\\Growth_seedwords_synonyms.txt',mode='w+',encoding='utf-8') as file:\n",
    " for i in Growth:\n",
    "        sy = synonyms.nearby(i,3)[0]\n",
    "        for j in sy:\n",
    "             if (len(j) > 1) and (is_Chinese(str(j))==True):\n",
    "                file.write(j+'\\n')\n",
    "                print(j)\n",
    "file.close()"
   ],
   "metadata": {
    "collapsed": false
   }
  },
  {
   "cell_type": "code",
   "execution_count": null,
   "outputs": [],
   "source": [
    "import synonyms\n",
    "with open(r'E:\\pythonProject\\需求分析词典\\种子词选择\\Relatedness_seedwords_synonyms.txt',mode='w+',encoding='utf-8') as file:\n",
    "    for i in Relatedness:\n",
    "        sy = synonyms.nearby(i,8)[0]\n",
    "        for j in sy:\n",
    "            if (len(j) > 1) and (is_Chinese(str(j))==True):\n",
    "                file.write(j+'\\n')\n",
    "                print(j)\n",
    "file.close()"
   ],
   "metadata": {
    "collapsed": false
   }
  },
  {
   "cell_type": "code",
   "execution_count": null,
   "outputs": [],
   "source": [
    "Existence_seedwords_synonyms = pd.read_table(r'E:\\pythonProject\\需求分析词典\\种子词选择\\Existence_seedwords_synonyms.txt',encoding='utf-8',header=None)\n",
    "Existence_seedwords_synonyms\n",
    "Existence_expansion=pd.concat([Existence1,Existence_seedwords_synonyms],axis=0)\n",
    "Existence_expansion.drop_duplicates(subset=0,keep='first',inplace=True)\n",
    "pd.DataFrame(Existence_expansion).to_csv(r'E:\\pythonProject\\需求分析词典\\种子词选择\\同义词扩展后的Existence.txt',header=0,index=0,encoding='utf-8')\n",
    "Existence_expansion"
   ],
   "metadata": {
    "collapsed": false
   }
  },
  {
   "cell_type": "code",
   "execution_count": null,
   "outputs": [],
   "source": [
    "Growth_seedwords_synonyms = pd.read_table(r'E:\\pythonProject\\需求分析词典\\种子词选择\\Growth_seedwords_synonyms.txt',encoding='utf-8',header=None)\n",
    "Growth_seedwords_synonyms\n",
    "Growth_expansion = pd.concat([Growth1,Growth_seedwords_synonyms],axis=0)\n",
    "Growth_expansion.drop_duplicates(subset=0,inplace=True,keep='first')\n",
    "pd.DataFrame(Growth_expansion).to_csv(r'E:\\pythonProject\\需求分析词典\\种子词选择\\同义词扩展后的Growth.txt',encoding='utf-8',header=0,index=0)\n",
    "Growth_expansion"
   ],
   "metadata": {
    "collapsed": false
   }
  },
  {
   "cell_type": "code",
   "execution_count": null,
   "outputs": [],
   "source": [
    "Relatedness_seedwords_synonyms = pd.read_table(r'E:\\pythonProject\\需求分析词典\\种子词选择\\Relatedness_seedwords_synonyms.txt',encoding='utf-8',header=None)\n",
    "Relatedness_seedwords_synonyms\n",
    "Relatedness_expansion = pd.concat([Relatedness1,Relatedness_seedwords_synonyms],axis=0)\n",
    "Relatedness_expansion.drop_duplicates(subset=0,keep='first',inplace=True)\n",
    "pd.DataFrame(Relatedness_expansion).to_csv(r'E:\\pythonProject\\需求分析词典\\种子词选择\\同义词扩展后的Relatedness.txt',encoding='utf-8',header=0,index=0)\n",
    "Relatedness_expansion"
   ],
   "metadata": {
    "collapsed": false
   }
  }
 ],
 "metadata": {
  "kernelspec": {
   "display_name": "Python 3",
   "language": "python",
   "name": "python3"
  },
  "language_info": {
   "codemirror_mode": {
    "name": "ipython",
    "version": 2
   },
   "file_extension": ".py",
   "mimetype": "text/x-python",
   "name": "python",
   "nbconvert_exporter": "python",
   "pygments_lexer": "ipython2",
   "version": "2.7.6"
  }
 },
 "nbformat": 4,
 "nbformat_minor": 0
}
